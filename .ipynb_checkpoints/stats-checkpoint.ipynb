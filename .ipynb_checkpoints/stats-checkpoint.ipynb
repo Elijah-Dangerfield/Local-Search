{
 "cells": [
  {
   "cell_type": "code",
   "execution_count": 1,
   "metadata": {},
   "outputs": [],
   "source": [
    "import sys\n",
    "import glob\n",
    "import math\n",
    "import errno\n",
    "import re"
   ]
  },
  {
   "cell_type": "code",
   "execution_count": 2,
   "metadata": {},
   "outputs": [
    {
     "name": "stdout",
     "output_type": "stream",
     "text": [
      "sa D_1, N_10:  1\n",
      "greedy D_1, N_10:  99\n",
      "sa D_1, N_50:  0\n",
      "greedy D_1, N_50:  100\n",
      "sa D_1, N_100:  2\n",
      "greedy D_1, N_100:  98\n",
      "sa D_1, N_1000:  0\n",
      "greedy D_1, N_1000:  100\n",
      "sa D_2, N_10:  11\n",
      "greedy D_2, N_10:  89\n",
      "sa D_2, N_50:  2\n",
      "greedy D_2, N_50:  98\n",
      "sa D_2, N_100:  0\n",
      "greedy D_2, N_100:  100\n",
      "sa D_2, N_1000:  0\n",
      "greedy D_2, N_1000:  100\n",
      "sa D_3, N_10:  43\n",
      "greedy D_3, N_10:  57\n",
      "sa D_3, N_50:  6\n",
      "greedy D_3, N_50:  94\n",
      "sa D_3, N_100:  1\n",
      "greedy D_3, N_100:  99\n",
      "sa D_3, N_1000:  0\n",
      "greedy D_3, N_1000:  100\n",
      "sa D_5, N_10:  94\n",
      "greedy D_5, N_10:  6\n",
      "sa D_5, N_50:  74\n",
      "greedy D_5, N_50:  26\n",
      "sa D_5, N_100:  55\n",
      "greedy D_5, N_100:  45\n",
      "sa D_5, N_1000:  2\n",
      "greedy D_5, N_1000:  98\n"
     ]
    }
   ],
   "source": [
    "for D in 1, 2, 3, 5:\n",
    "    for N in 10, 50, 100, 1000:\n",
    "        \n",
    "        greedy_evals = []\n",
    "        sa_evals = []\n",
    "        count = []\n",
    "        \n",
    "        test = \"sa_{0}_{1}_*.txt\".format(D, N)\n",
    "        \n",
    "        path = 'greedy/' + test\n",
    "        files = glob.glob(path)   \n",
    "        for name in files: \n",
    "            try:\n",
    "                with open(name) as f:\n",
    "                    greedy_evals += [float(f.read())]\n",
    "            except IOError as exc:\n",
    "                if exc.errno != errno.EISDIR:\n",
    "                    raise\n",
    "                    \n",
    "        path = 'sa/' + test\n",
    "\n",
    "        files = glob.glob(path)   \n",
    "        for name in files: \n",
    "            try:\n",
    "                with open(name) as f:\n",
    "                    sa_evals += [float(f.read())]\n",
    "            except IOError as exc:\n",
    "                if exc.errno != errno.EISDIR:\n",
    "                    raise\n",
    "                    \n",
    "        count = [1 if y > x else 0 for x, y in zip(greedy_evals, sa_evals)]\n",
    "        print(\"sa D_{0}, N_{1}: \".format(D, N), count.count(1))\n",
    "        print(\"greedy D_{0}, N_{1}: \".format(D, N), count.count(0))"
   ]
  },
  {
   "cell_type": "code",
   "execution_count": null,
   "metadata": {},
   "outputs": [],
   "source": []
  }
 ],
 "metadata": {
  "kernelspec": {
   "display_name": "MNIST_CNN",
   "language": "python",
   "name": "mnist_cnn"
  },
  "language_info": {
   "codemirror_mode": {
    "name": "ipython",
    "version": 3
   },
   "file_extension": ".py",
   "mimetype": "text/x-python",
   "name": "python",
   "nbconvert_exporter": "python",
   "pygments_lexer": "ipython3",
   "version": "3.6.9"
  },
  "toc": {
   "base_numbering": 1,
   "nav_menu": {},
   "number_sections": true,
   "sideBar": true,
   "skip_h1_title": false,
   "title_cell": "Table of Contents",
   "title_sidebar": "Contents",
   "toc_cell": false,
   "toc_position": {},
   "toc_section_display": true,
   "toc_window_display": false
  }
 },
 "nbformat": 4,
 "nbformat_minor": 2
}
